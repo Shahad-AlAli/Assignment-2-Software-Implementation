{
  "nbformat": 4,
  "nbformat_minor": 0,
  "metadata": {
    "colab": {
      "provenance": [],
      "authorship_tag": "ABX9TyO2dqwus/X20uZmTTFg7HI4",
      "include_colab_link": true
    },
    "kernelspec": {
      "name": "python3",
      "display_name": "Python 3"
    },
    "language_info": {
      "name": "python"
    }
  },
  "cells": [
    {
      "cell_type": "markdown",
      "metadata": {
        "id": "view-in-github",
        "colab_type": "text"
      },
      "source": [
        "<a href=\"https://colab.research.google.com/github/Shahad-AlAli/Assignment-2-Software-Implementation/blob/main/Assignment_2_Software_Implementation.ipynb\" target=\"_parent\"><img src=\"https://colab.research.google.com/assets/colab-badge.svg\" alt=\"Open In Colab\"/></a>"
      ]
    },
    {
      "cell_type": "code",
      "source": [
        "from enum import Enum\n",
        "class Address(Enum):\n",
        "    AbuDhabi= 1\n",
        "    Dubai= 2\n",
        "    Sharjah = 3\n",
        "    Ajman = 4\n",
        "    UmmAlQuwain = 5\n",
        "    RasAlKhaimah = 6\n",
        "    Fujairah = 7"
      ],
      "metadata": {
        "id": "ohYRxe2zxr2E"
      },
      "execution_count": 11,
      "outputs": []
    },
    {
      "cell_type": "code",
      "execution_count": 16,
      "metadata": {
        "id": "IB5w6CI4xe6v"
      },
      "outputs": [],
      "source": [
        "class Company:\n",
        "    def __init__(self, companyName):\n",
        "        self.companyName = companyName\n",
        "        self.branches = []\n",
        "\n",
        "    def add_branch(self, branch):\n",
        "        self.branches.append(branch)\n",
        "\n",
        "    def __str__(self):\n",
        "        return self.companyName\n",
        "\n",
        "class Branch:\n",
        "    def __init__(self, address, phoneNumber, manager):\n",
        "        self.address = address\n",
        "        self.phoneNumber = phoneNumber\n",
        "        self.manager = manager\n",
        "        self.staff = []\n",
        "        self.services = []\n",
        "        self.patients = []\n",
        "\n",
        "    def add_patient(self, patient):\n",
        "        self.patients.append(patient)\n",
        "\n",
        "    def add_staff(self, staffMember):\n",
        "        self.staff.append(staffMember)\n",
        "\n",
        "    def add_service(self, service):\n",
        "        self.services.append(service)\n",
        "\n",
        "    def __str__(self):\n",
        "        return f\"Address: {self.address}\\nPhone Number: {self.phoneNumber}\\nManager: {self.manager}\"\n",
        "\n",
        "\n",
        "class Service:\n",
        "    def __init__(self, serviceName, serviceCost):\n",
        "        self.serviceName = serviceName\n",
        "        self.serviceCost = serviceCost\n",
        "\n",
        "    def __str__(self):\n",
        "        return f\"{self.serviceName} - AED {self.serviceCost}\"\n",
        "\n",
        "\n",
        "class Staff:\n",
        "    def __init__(self, staffName, title, staffID):\n",
        "        self.staffName = staffName\n",
        "        self.title = title\n",
        "        self.staffID = staffID\n",
        "    \n",
        "    def __str__(self):\n",
        "        return f\"{self.staffName} ({self.title}), Staff ID: {self.staffID}\"\n",
        "\n",
        "class Manager(Staff):\n",
        "    def __init__(self, staffName, title, staffID, managerID):\n",
        "        super().__init__(staffName, title, staffID)\n",
        "        self.managerID = managerID\n",
        "    \n",
        "    def __str__(self):\n",
        "        return f\"{self.staffName} ({self.title}), Staff ID: {self.staffID}, Manager ID: {self.managerID}\"\n",
        "\n",
        "class Dentist(Staff):\n",
        "    def __init__(self, staffName, title, staffID, specialization, licenseNumber):\n",
        "        super().__init__(staffName, title, staffID)\n",
        "        self.specialization = specialization\n",
        "        self.licenseNumber = licenseNumber\n",
        "    \n",
        "    def __str__(self):\n",
        "        return f\"{self.staffName} ({self.title}, {self.specialization}), Staff ID: {self.staffID}, License Number: {self.licenseNumber}\"\n",
        "\n",
        "class Patient:\n",
        "    def __init__(self, patientName, phoneNumber, patientID):\n",
        "        self.patientName = patientName\n",
        "        self.phoneNumber = phoneNumber\n",
        "        self.patientID = patientID\n",
        "        self.appointments = []\n",
        "        self.bills = []\n",
        "\n",
        "    def book_appointment(self, appointment):\n",
        "        self.appointments.append(appointment)\n",
        "\n",
        "    def __str__(self):\n",
        "        return f\"{self.patientName} ({self.patientID})\"\n",
        "\n",
        "class Appointment:\n",
        "    def __init__(self, patient, staffMember, service, date):\n",
        "        self.patient = patient\n",
        "        self.staffMember = staffMember\n",
        "        self.service = service\n",
        "        self.date = date\n",
        "\n",
        "    def __str__(self):\n",
        "        return f\"{self.patient} - {self.staffMember.staffName} - {self.service} - {self.date.strftime('%m/%d/%Y %I:%M %p')}\"\n",
        "\n",
        "class Bill:\n",
        "    def __init__(self, patient, services):\n",
        "        self.patient = patient\n",
        "        self.services = services\n",
        "        self.totalCost = self.calculate_totalCost()\n",
        "        self.tax = self.calculate_tax()\n",
        "        self.finalCost = self.calculate_finalCost()\n",
        "\n",
        "    def calculate_totalCost(self):\n",
        "        total = 0\n",
        "        for service in self.services:\n",
        "            total += service.serviceCost\n",
        "        return total\n",
        "\n",
        "    def calculate_tax(self):\n",
        "        return self.totalCost * 0.05\n",
        "\n",
        "    def calculate_finalCost(self):\n",
        "        return self.totalCost + self.tax\n",
        "\n",
        "    def print_receipt(self):\n",
        "        print(\"Patient Name:\", self.patient.patientName)\n",
        "        print(\"Services:\")\n",
        "        for service in self.services:\n",
        "            print(service.serviceName, \"- AED\", service.serviceCost)\n",
        "        print(\"Total Cost: AED\", self.totalCost)\n",
        "        print(\"Tax: AED\", self.tax)\n",
        "        print(\"Final Cost: AED\", self.finalCost)"
      ]
    },
    {
      "cell_type": "code",
      "source": [
        "#Test case 1: Adding branches to the dental company\n",
        "# Create a dental company\n",
        "company = Company(\"Main Street Dental\")\n",
        "\n",
        "# Create some branches\n",
        "branch1 = Branch(Address.AbuDhabi.name, \"0568473899\", Manager(\"Ali Obaid\", \"Manager\", \"M001\", \"M001B\"))\n",
        "branch2 = Branch(Address.Dubai.name, \"0548473899\", Manager(\"Omar Saeed\", \"Manager\", \"M002\", \"M002B\"))\n",
        "\n",
        "# Add the branches to the company\n",
        "company.add_branch(branch1)\n",
        "company.add_branch(branch2)\n",
        "\n",
        "# Check if the branches were added successfully\n",
        "for branch in company.branches:\n",
        "    print(branch)"
      ],
      "metadata": {
        "colab": {
          "base_uri": "https://localhost:8080/"
        },
        "id": "qPgwlj-eyb4c",
        "outputId": "4a059ac5-aabf-46ff-a020-630529a88524"
      },
      "execution_count": 5,
      "outputs": [
        {
          "output_type": "stream",
          "name": "stdout",
          "text": [
            "Address: AbuDhabi\n",
            "Phone Number: 0568473899\n",
            "Manager: Ali Obaid (Manager), Staff ID: M001, Manager ID: M001B\n",
            "Address: Dubai\n",
            "Phone Number: 0548473899\n",
            "Manager: Omar Saeed (Manager), Staff ID: M002, Manager ID: M002B\n"
          ]
        }
      ]
    },
    {
      "cell_type": "code",
      "source": [
        "#Test case 2: Adding dental services, staff, and patients to a branch\n",
        "# Create a branch\n",
        "branch = Branch(Address.AbuDhabi.name, \"0568473899\", Manager(\"Ali Obaid\", \"Manager\", \"M001\", \"M001B\"))\n",
        "\n",
        "# Create some services\n",
        "service1 = Service(\"Teeth Cleaning\", 100)\n",
        "service2 = Service(\"Teeth Whitening\", 200)\n",
        "service3 = Service(\"Root Canal\", 500)\n",
        "\n",
        "# Add the services to the branch\n",
        "branch.add_service(service1)\n",
        "branch.add_service(service2)\n",
        "branch.add_service(service3)\n",
        "\n",
        "# Create some staff members\n",
        "staff1 = Staff(\"Shamma Khalid\", \"Receptionist\", \"S001\")\n",
        "staff2 = Dentist(\"Salem Hamdan\", \"Dentist\", \"S002\", \"Orthodontist\", \"L001\")\n",
        "staff3 = Dentist(\"Hazza Ahmed\", \"Dentist\", \"S003\", \"Pediatric Dentist\", \"L002\")\n",
        "\n",
        "# Add the staff members to the branch\n",
        "branch.add_staff(staff1)\n",
        "branch.add_staff(staff2)\n",
        "branch.add_staff(staff3)\n",
        "\n",
        "# Create some patients\n",
        "patient1 = Patient(\"Amna Humaid\", \"0506372847\", \"P001\")\n",
        "patient2 = Patient(\"Layla Mohammed\", \"0548234572\", \"P002\")\n",
        "\n",
        "# Add the patients to the branch\n",
        "branch.add_patient(patient1)\n",
        "branch.add_patient(patient2)\n",
        "\n",
        "# Check if the services, staff members, and patients were added successfully\n",
        "print(\"Services:\")\n",
        "for service in branch.services:\n",
        "    print(service)\n",
        "print(\"Staff:\")\n",
        "for staff in branch.staff:\n",
        "    print(staff)\n",
        "print(\"Patients:\")\n",
        "for patient in branch.patients:\n",
        "    print(patient)"
      ],
      "metadata": {
        "colab": {
          "base_uri": "https://localhost:8080/"
        },
        "id": "rXmjNtBW0R6D",
        "outputId": "f319c2e0-39a3-4b43-9829-2fe3e67bcde4"
      },
      "execution_count": 17,
      "outputs": [
        {
          "output_type": "stream",
          "name": "stdout",
          "text": [
            "Services:\n",
            "Teeth Cleaning - AED 100\n",
            "Teeth Whitening - AED 200\n",
            "Root Canal - AED 500\n",
            "Staff:\n",
            "Shamma Khalid (Receptionist), Staff ID: S001\n",
            "Salem Hamdan (Dentist, Orthodontist), Staff ID: S002, License Number: L001\n",
            "Hazza Ahmed (Dentist, Pediatric Dentist), Staff ID: S003, License Number: L002\n",
            "Patients:\n",
            "Amna Humaid (P001)\n",
            "Layla Mohammed (P002)\n"
          ]
        }
      ]
    },
    {
      "cell_type": "code",
      "source": [
        "#Test case 3: Adding patients booking appointments\n",
        "# Create a patient\n",
        "patient = Patient(\"Amna Humaid\", \"0506372847\", \"P001\")\n",
        "\n",
        "# Create a staff member\n",
        "staff = Dentist(\"Salem Hamdan\", \"Dentist\", \"S002\", \"Orthodontist\", \"L001\")\n",
        "\n",
        "# Create a service\n",
        "service = Service(\"Teeth Cleaning\", 100)\n",
        "\n",
        "# Create an appointment\n",
        "import datetime\n",
        "appointment = Appointment(patient, staff, service, datetime.datetime(2023, 4, 15, 10, 0))\n",
        "\n",
        "# Book the appointment\n",
        "patient.book_appointment(appointment)\n",
        "\n",
        "# Check if the appointment was booked successfully\n",
        "print(patient.appointments[0])\n"
      ],
      "metadata": {
        "colab": {
          "base_uri": "https://localhost:8080/"
        },
        "id": "rRiWRkHo152N",
        "outputId": "3d4dbb16-5c43-4757-e6a0-66def26e64ea"
      },
      "execution_count": 18,
      "outputs": [
        {
          "output_type": "stream",
          "name": "stdout",
          "text": [
            "Amna Humaid (P001) - Salem Hamdan - Teeth Cleaning - AED 100 - 04/15/2023 10:00 AM\n"
          ]
        }
      ]
    },
    {
      "cell_type": "code",
      "source": [
        "#Test case 4: Displaying payment receipts for patient services\n",
        "# Create a patient\n",
        "patient = Patient(\"Layla Mohammed\", \"0548234572\", \"P002\")\n",
        "\n",
        "# Create some services\n",
        "service1 = Service(\"Teeth Cleaning\", 100)\n",
        "service2 = Service(\"Teeth Whitening\", 200)\n",
        "\n",
        "# Create a bill\n",
        "bill = Bill(patient, [service1, service2])\n",
        "\n",
        "# Print the receipt\n",
        "bill.print_receipt()\n"
      ],
      "metadata": {
        "colab": {
          "base_uri": "https://localhost:8080/"
        },
        "id": "2wcy5r0s3ONI",
        "outputId": "46cc6e16-faa8-4edb-808d-d75fae322eec"
      },
      "execution_count": 19,
      "outputs": [
        {
          "output_type": "stream",
          "name": "stdout",
          "text": [
            "Patient Name: Layla Mohammed\n",
            "Services:\n",
            "Teeth Cleaning - AED 100\n",
            "Teeth Whitening - AED 200\n",
            "Total Cost: AED 300\n",
            "Tax: AED 15.0\n",
            "Final Cost: AED 315.0\n"
          ]
        }
      ]
    }
  ]
}