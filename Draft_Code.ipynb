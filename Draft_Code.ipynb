{
  "nbformat": 4,
  "nbformat_minor": 0,
  "metadata": {
    "colab": {
      "provenance": [],
      "authorship_tag": "ABX9TyNp1Vm+grSC2zHQ1EeaFJtC",
      "include_colab_link": true
    },
    "kernelspec": {
      "name": "python3",
      "display_name": "Python 3"
    },
    "language_info": {
      "name": "python"
    }
  },
  "cells": [
    {
      "cell_type": "markdown",
      "metadata": {
        "id": "view-in-github",
        "colab_type": "text"
      },
      "source": [
        "<a href=\"https://colab.research.google.com/github/Shahad-AlAli/Assignment-2-Software-Implementation/blob/main/Draft_Code.ipynb\" target=\"_parent\"><img src=\"https://colab.research.google.com/assets/colab-badge.svg\" alt=\"Open In Colab\"/></a>"
      ]
    },
    {
      "cell_type": "code",
      "source": [
        "from enum import Enum\n",
        "class Address(Enum):\n",
        "    AbuDhabi= 1\n",
        "    Dubai= 2\n",
        "    Sharjah = 3\n",
        "    Ajman = 4\n",
        "    UmmAlQuwain = 5\n",
        "    RasAlKhaimah = 6\n",
        "    Fujairah = 7"
      ],
      "metadata": {
        "id": "puIZENgKly_p"
      },
      "execution_count": 16,
      "outputs": []
    },
    {
      "cell_type": "code",
      "execution_count": 30,
      "metadata": {
        "id": "Jdrkf15e_nQI"
      },
      "outputs": [],
      "source": [
        "class Company:\n",
        "    def __init__(self, companyName):\n",
        "        self.companyName = companyName\n",
        "        self.branches = []\n",
        "\n",
        "    def add_branch(self, branch):\n",
        "        self.branches.append(branch)\n",
        "\n",
        "    def __str__(self):\n",
        "        return self.companyName\n",
        "\n",
        "class Branch:\n",
        "    def __init__(self, address, phoneNumber, manager):\n",
        "        self.address = address\n",
        "        self.phoneNumber = phoneNumber\n",
        "        self.manager = manager\n",
        "        self.staff = []\n",
        "        self.services = []\n",
        "\n",
        "    def add_staff(self, staffMember):\n",
        "        self.staff.append(staffMember)\n",
        "\n",
        "    def add_service(self, service):\n",
        "        self.services.append(service)\n",
        "\n",
        "    def __str__(self):\n",
        "        return f\"Address: {self.address}\\nPhone Number: {self.phoneNumber}\\nManager: {self.manager}\"\n",
        "\n",
        "\n",
        "class Service:\n",
        "    def __init__(self, serviceName, serviceCost):\n",
        "        self.serviceName = serviceName\n",
        "        self.serviceCost = serviceCost\n",
        "\n",
        "    def __str__(self):\n",
        "        return f\"{self.serviceName} - $ {self.serviceCost}\"\n",
        "\n",
        "\n",
        "class Staff:\n",
        "    def __init__(self, staffName, title, staffID):\n",
        "        self.staffName = staffName\n",
        "        self.title = title\n",
        "        self.staffID = staffID\n",
        "\n",
        "class Manager(Staff):\n",
        "    def __init__(self, staffName, title, staffID, managerID):\n",
        "        super().__init__(staffName, title, staffID)\n",
        "        self.managerID = managerID\n",
        "\n",
        "class Receptionist(Staff):\n",
        "    pass\n",
        "\n",
        "class Hygienist(Staff):\n",
        "    pass\n",
        "\n",
        "class Dentist(Staff):\n",
        "    def __init__(self, staffName, title, staffID, specialization, licenseNumber):\n",
        "        super().__init__(staffName, title, staffID)\n",
        "        self.specialization = specialization\n",
        "        self.licenseNumber = licenseNumber\n",
        "\n",
        "class Patient:\n",
        "    def __init__(self, patientName, phoneNumber, patientID):\n",
        "        self.patientName = patientName\n",
        "        self.phoneNumber = phoneNumber\n",
        "        self.patientID = patientID\n",
        "        self.appointments = []\n",
        "        self.bills = []\n",
        "\n",
        "    def book_appointment(self, appointment):\n",
        "        self.appointments.append(appointment)\n",
        "\n",
        "class Appointment:\n",
        "    def __init__(self, patient, staffMember, service, date):\n",
        "        self.patient = patient\n",
        "        self.staffMember = staffMember\n",
        "        self.service = service\n",
        "        self.date = date\n",
        "class Bill:\n",
        "    def __init__(self, patient, services):\n",
        "        self.patient = patient\n",
        "        self.services = services\n",
        "        self.totalCost = self.calculate_totalCost()\n",
        "        self.tax = self.calculate_tax()\n",
        "        self.finalCost = self.calculate_finalCost()\n",
        "\n",
        "    def calculate_totalCost(self):\n",
        "        total = 0\n",
        "        for service in self.services:\n",
        "            total += service.serviceCost\n",
        "        return total\n",
        "\n",
        "    def calculate_tax(self):\n",
        "        return self.totalCost * 0.05\n",
        "\n",
        "    def calculate_finalCost(self):\n",
        "        return self.totalCost + self.tax\n",
        "\n",
        "    def print_receipt(self):\n",
        "        print(\"Patient Name:\", self.patient.patientName)\n",
        "        print(\"Services:\")\n",
        "        for service in self.services:\n",
        "            print(service.serviceName, \"- $\", service.serviceCost)\n",
        "        print(\"Total Cost: $\", self.totalCost)\n",
        "        print(\"Tax: $\", self.tax)\n",
        "        print(\"Final Cost: $\", self.finalCost)\n"
      ]
    },
    {
      "cell_type": "code",
      "source": [
        "# Test Case 1: Adding a branch to the company\n",
        "company = Company(\"Bright Smiles\")\n",
        "branch = Branch(\"Dubai\", \"555-1234\", \"Ali Obaid\")\n",
        "company.add_branch(branch)\n",
        "print(company.branches)\n",
        "\n",
        "# Test Case 2: Adding services, staff, and patients to a branch\n",
        "import datetime\n",
        "cleaning = Service(\"Cleaning\", 50.0)\n",
        "filling = Service(\"Filling\", 100.0)\n",
        "receptionist = Staff(\"Shamma Saleh\", \"Receptionist\", \"001\")\n",
        "dentist = Dentist(\"Dr.Saif\", \"General Dentistry\", \"1234\", \"Orthodontics\", \"5678\")\n",
        "patient = Patient(\"John Smith\", \"555-4321\", \"001\")\n",
        "branch.add_service(cleaning)\n",
        "branch.add_service(filling)\n",
        "branch.add_staff(receptionist)\n",
        "branch.add_staff(dentist)\n",
        "patient.book_appointment(Appointment(patient, dentist, cleaning, datetime.datetime(2023, 4, 15, 10, 30)))\n",
        "print(branch.services)\n",
        "print(branch.staff)\n",
        "print(patient.appointments)\n",
        "\n",
        "\n",
        "# Test Case 3: Booking an appointment\n",
        "appointment = Appointment(patient, dentist, cleaning, datetime.datetime(2023, 4, 15, 10, 30))\n",
        "print(appointment)\n",
        "\n",
        "# Test Case 4: Displaying a payment receipt for patient services\n",
        "services_received = [cleaning, filling]\n",
        "bill = Bill(patient, services_received)\n",
        "bill.print_receipt()"
      ],
      "metadata": {
        "colab": {
          "base_uri": "https://localhost:8080/"
        },
        "id": "iEEVVqp2AELg",
        "outputId": "078faa50-95c2-40ba-88c6-e222d6e80244"
      },
      "execution_count": 31,
      "outputs": [
        {
          "output_type": "stream",
          "name": "stdout",
          "text": [
            "[<__main__.Branch object at 0x7f0ea32404c0>]\n",
            "[<__main__.Service object at 0x7f0ea3240220>, <__main__.Service object at 0x7f0ea3240af0>]\n",
            "[<__main__.Staff object at 0x7f0ea3240a90>, <__main__.Dentist object at 0x7f0ea3240fa0>]\n",
            "[<__main__.Appointment object at 0x7f0ea3240ee0>]\n",
            "<__main__.Appointment object at 0x7f0ea3240ca0>\n",
            "Patient Name: John Smith\n",
            "Services:\n",
            "Cleaning - $ 50.0\n",
            "Filling - $ 100.0\n",
            "Total Cost: $ 150.0\n",
            "Tax: $ 7.5\n",
            "Final Cost: $ 157.5\n"
          ]
        }
      ]
    }
  ]
}